{
  "nbformat": 4,
  "nbformat_minor": 0,
  "metadata": {
    "colab": {
      "name": "K-Neighbors.ipynb",
      "provenance": [],
      "collapsed_sections": []
    },
    "kernelspec": {
      "name": "python3",
      "display_name": "Python 3"
    },
    "language_info": {
      "name": "python"
    }
  },
  "cells": [
    {
      "cell_type": "code",
      "metadata": {
        "id": "XDvJqW0SisyT"
      },
      "source": [
        "import numpy as np\n",
        "import pandas as pd\n",
        "import matplotlib.pyplot as plt\n",
        "import seaborn as sns\n",
        "from sklearn.neighbors import KNeighborsClassifier\n",
        "from sklearn.neighbors import KNeighborsRegressor\n",
        "from sklearn.model_selection import train_test_split\n",
        "from sklearn.metrics import accuracy_score\n",
        "\n",
        "\n",
        "from sklearn.tree import DecisionTreeClassifier # Import Decision Tree Classifier\n",
        "from sklearn.model_selection import train_test_split # Import train_test_split function\n",
        "from sklearn import metrics #Import scikit-learn metrics module for accuracy calculation\n",
        "\n",
        "from sklearn.metrics import mean_squared_error"
      ],
      "execution_count": null,
      "outputs": []
    },
    {
      "cell_type": "code",
      "metadata": {
        "id": "Nt1bTcBujieI"
      },
      "source": [
        "data_training = pd.read_csv('filename_train.txt', header=None) \n",
        "data_testing = pd.read_csv('filename_test.txt', header=None) \n",
        "\n",
        "data_testing.columns = ['A' + str(i) for i in range(1, 6)] + ['Combination']\n",
        "data_training.columns = ['A' + str(i) for i in range(1, 6)] + ['Combination']\n",
        "\n",
        "features_test = data_testing.drop(('Combination'), axis=1)  # Выбрасываем столбец 'Combination'.\n",
        "features_train = data_training.drop(('Combination'), axis=1)\n",
        "answers_test = data_testing['Combination']\n",
        "answers_train = data_training['Combination']"
      ],
      "execution_count": null,
      "outputs": []
    },
    {
      "cell_type": "code",
      "metadata": {
        "id": "bOx6B9H3jt4g"
      },
      "source": [
        "knn = KNeighborsClassifier(n_neighbors=4) # одинаковые веса; в ачестве метрики евклидово расстояние\n",
        "knn.fit(features_train, answers_train)\n",
        "predicted_value = knn.predict(features_test)\n",
        "print(predicted_value)"
      ],
      "execution_count": null,
      "outputs": []
    },
    {
      "cell_type": "code",
      "metadata": {
        "id": "lwpJQ2sqjwTm"
      },
      "source": [
        "mean_squared_error(answers_test, predicted_value)"
      ],
      "execution_count": null,
      "outputs": []
    },
    {
      "cell_type": "code",
      "metadata": {
        "id": "fB5XifTdjymG"
      },
      "source": [
        "errors = abs(predicted_value - answers_test)\n",
        "# Print out the mean absolute error (mae)\n",
        "print('Mean Absolute Error:', round(np.mean(errors), 2), 'points')\n",
        "\n",
        "#accuracy_score(answers_test, predictions)"
      ],
      "execution_count": null,
      "outputs": []
    },
    {
      "cell_type": "code",
      "metadata": {
        "id": "3pj2-h8Gj0S6"
      },
      "source": [
        "correct = 0\n",
        "for i in range (0, len(predicted_value)):\n",
        "    if (round(predicted_value[i]) == answers_test[i]):\n",
        "        correct += 1\n",
        "accuracy_knn_c = round(((correct / len(predicted_value)) * 100), 2)\n",
        "print (\"accuracy of the algorithm:\", accuracy_knn_c, \"%\")\n",
        "correct"
      ],
      "execution_count": null,
      "outputs": []
    },
    {
      "cell_type": "code",
      "metadata": {
        "id": "srV6HvVgj2mb"
      },
      "source": [
        "metrics_2 = []\n",
        "for n in range(1, 30, 3):\n",
        "    knn = KNeighborsClassifier(n_neighbors=n)\n",
        "    knn.fit(features_train, answers_train)\n",
        "    metrics_2.append(mean_squared_error(answers_test, knn.predict(features_test)))"
      ],
      "execution_count": null,
      "outputs": []
    },
    {
      "cell_type": "code",
      "metadata": {
        "id": "TEupCVUsj5hq"
      },
      "source": [
        "plt.plot(range(1, 30, 3), metrics_2)\n",
        "plt.ylabel('Mean squared error')\n",
        "plt.xlabel('Number of neighbors for KNN Classification')"
      ],
      "execution_count": null,
      "outputs": []
    },
    {
      "cell_type": "markdown",
      "metadata": {
        "id": "eAmOiX4Fj6LO"
      },
      "source": [
        "# Regression"
      ]
    },
    {
      "cell_type": "code",
      "metadata": {
        "id": "5qPy_s9sj91y"
      },
      "source": [
        "knn = KNeighborsRegressor(n_neighbors=4) # одинаковые веса; в ачестве метрики евклидово расстояние\n",
        "knn.fit(features_train, answers_train)\n",
        "predicted_value = knn.predict(features_test)\n",
        "print(predicted_value)"
      ],
      "execution_count": null,
      "outputs": []
    },
    {
      "cell_type": "code",
      "metadata": {
        "id": "r42QyuOxkCHo"
      },
      "source": [
        "correct = 0\n",
        "for i in range (0, len(predicted_value)):\n",
        "    if (round(predicted_value[i]) == answers_test[i]):\n",
        "        correct += 1\n",
        "accuracy_knn_r = round((correct / len(predicted_value)) * 100, 2)\n",
        "print (\"accuracy of the algorithm:\", (correct / len(predicted_value)) * 100, \"%\")\n",
        "correct"
      ],
      "execution_count": null,
      "outputs": []
    },
    {
      "cell_type": "code",
      "metadata": {
        "id": "t5C70mhAkD8q"
      },
      "source": [
        "metrics = []\n",
        "for n in range(1, 30, 3):\n",
        "    knn = KNeighborsRegressor(n_neighbors=n)\n",
        "    knn.fit(features_train, answers_train)\n",
        "    #scores = cross_val_score(knn, X_train, y_train, cv=5, scoring='neg_mean_squared_error')\n",
        "    #metrics.append(np.mean(scores))\n",
        "    metrics.append(mean_squared_error(answers_test, knn.predict(features_test)))"
      ],
      "execution_count": null,
      "outputs": []
    },
    {
      "cell_type": "code",
      "metadata": {
        "id": "5_AcfarfkFp0"
      },
      "source": [
        "plt.plot(range(1, 30, 3), metrics, color='magenta', marker='o', label='KNN Regression')\n",
        "plt.plot(range(1, 30, 3), metrics_2, color='orange', marker='o', label='KNN Classification')\n",
        "plt.title('Correlation between Mean Squared Error and the number of neighbors in KNN algorithms', fontsize=14)\n",
        "plt.xlabel('Number of neighbors', fontsize=14)\n",
        "plt.ylabel('Mean squared error', fontsize=14)\n",
        "plt.legend()\n",
        "plt.grid(True)\n",
        "plt.show()"
      ],
      "execution_count": null,
      "outputs": []
    }
  ]
}